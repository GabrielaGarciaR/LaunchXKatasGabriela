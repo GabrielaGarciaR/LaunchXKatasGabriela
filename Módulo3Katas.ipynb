{
  "cells": [
    {
      "cell_type": "markdown",
      "metadata": {},
      "source": [
        "## Ejercicio - Escribir declaraciones `if`, `else`, y `elif`\n",
        "\n",
        "Para este ejercicio, escribirás una lógica condicional que imprima una advertencia si un asteroide se acerca a la Tierra demasiado rápido. La velocidad del asteroide varía dependiendo de lo cerca que esté del sol, y cualquier velocidad superior a 25 kilómetros por segundo (km/s) merece una advertencia.\n",
        "\n",
        "Un asteroide se acerca, y viaja a una velocidad de 49 km/s"
      ]
    },
    {
      "cell_type": "code",
      "execution_count": 10,
      "metadata": {},
      "outputs": [
        {
          "name": "stdout",
          "output_type": "stream",
          "text": [
            "Todo se encuentra despejado\n"
          ]
        }
      ],
      "source": [
        "dato=input(\"Introduce la velocidad\")\n",
        "dato=int(dato)\n",
        "\n",
        "if dato>25:\n",
        "    print ('Asteroide aproximandose PELIGRO!!')\n",
        "else:\n",
        "    print ('Todo se encuentra despejado')"
      ]
    },
    {
      "cell_type": "markdown",
      "metadata": {},
      "source": [
        "Si un asteroide entra en la atmósfera de la Tierra a una velocidad mayor o igual a 20 km/s, a veces produce un rayo de luz que se puede ver desde la Tierra. Escribe la lógica condicional que usa declaraciones `if`, `else`, y `elif` para alertar a las personas de todo el mundo que deben buscar un asteroide en el cielo. ¡Hay uno que se dirige a la tierra ahora a una velocidad de 19 km/s!"
      ]
    },
    {
      "cell_type": "code",
      "execution_count": 16,
      "metadata": {},
      "outputs": [
        {
          "name": "stdout",
          "output_type": "stream",
          "text": [
            "Esta pasando un rayo de luz en el cielo\n"
          ]
        }
      ],
      "source": [
        "asteroide=input(\"Introduce la velocidad\")\n",
        "asteroide=int(dato)\n",
        "\n",
        "if (asteroide>=20):\n",
        "    print('Esta pasando un rayo de luz en el cielo')\n",
        "elif (asteroide==20):\n",
        "    print('Esta pasando un rayo de luz en el cielo')\n",
        "else:\n",
        "    print('Esta vez no hay nada en el cielo')\n"
      ]
    },
    {
      "cell_type": "markdown",
      "metadata": {},
      "source": [
        "## Ejercicio: Uso de operadores `and` y `or` \n",
        "\n",
        "En este ejercicio, aprenderás información más matizada sobre cuándo los asteroides representan un peligro para la Tierra, y utilizarás esa información para mejorar nuestro sistema de advertencia. Aquí está la nueva información que necesitas saber:\n",
        "\n",
        "*Los asteroides de menos de 25 metros en su dimensión más grande probablemente se quemarán a medida que entren en la atmósfera de la Tierra.\n",
        "* Si una pieza de un asteroide que es más grande que 25 metros pero más pequeña que 1000 metros golpeara la Tierra, causaría mucho daño.\n",
        "\n",
        "También discutimos en el ejercicio anterior que:\n",
        "\n",
        "* La velocidad del asteroide varía en función de lo cerca que esté del sol, y cualquier velocidad superior a 25 kilómetros por segundo (km/s) merece una advertencia.\n",
        "* Si un asteroide entra en la atmósfera de la Tierra a una velocidad mayor o igual a 20 km/s, a veces produce un rayo de luz que se puede ver desde la Tierra.\n",
        "\n",
        "Usando toda esta información, escribe un programa que emita la advertencia o información correcta a la gente de la Tierra, según la velocidad y el tamaño de un asteroide. Utiliza instrucciones `if`, `else`, y `elif`, así como los operadores `and` y `or`."
      ]
    },
    {
      "cell_type": "code",
      "execution_count": 8,
      "metadata": {},
      "outputs": [
        {
          "name": "stdout",
          "output_type": "stream",
          "text": [
            "Rayo en el cielo\n"
          ]
        }
      ],
      "source": [
        "velosidad=input(\"Introduce la velocidad\")\n",
        "velosidad=int(velosidad)\n",
        "dimensionasteroide=input(\"Introduce la dimension\")\n",
        "dimensionasteroide=int(dimensionasteroide)\n",
        "velosidad=25\n",
        "dimensionasteroide=25\n",
        "if dimensionasteroide>25 and velosidad>25:\n",
        "    print ('ADVERTENCIA Asteroide asercandose a la tierra')\n",
        "elif velosidad>25:\n",
        "    print ('ADVERTENCIA Proximacion de asteroide')\n",
        "elif velosidad>=20:\n",
        "    print ('Rayo en el cielo')\n",
        "else:\n",
        "    print('Cielo despejado')\n"
      ]
    }
  ],
  "metadata": {
    "interpreter": {
      "hash": "916dbcbb3f70747c44a77c7bcd40155683ae19c65e1c03b4aa3499c5328201f1"
    },
    "kernel_info": {
      "name": "conda-env-py37_default-py"
    },
    "kernelspec": {
      "display_name": "py37_default",
      "language": "python",
      "name": "python3"
    },
    "language_info": {
      "codemirror_mode": {
        "name": "ipython",
        "version": 3
      },
      "file_extension": ".py",
      "mimetype": "text/x-python",
      "name": "python",
      "nbconvert_exporter": "python",
      "pygments_lexer": "ipython3",
      "version": "3.9.10"
    },
    "nteract": {
      "version": "nteract-front-end@1.0.0"
    },
    "orig_nbformat": 4
  },
  "nbformat": 4,
  "nbformat_minor": 2
}
